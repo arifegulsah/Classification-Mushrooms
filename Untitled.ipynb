{
 "cells": [
  {
   "cell_type": "markdown",
   "id": "6926b3f0",
   "metadata": {},
   "source": [
    "# KNN ALGORTİTMASI İLE BASİT SINIFLANDIRMA PROJESİ\n",
    "\n",
    "Bu yazıda sınıflandırma algoritmalarından birisi olan **KNN** algoritması ile mantarların zehirli olup\n",
    "olmadıklarını tespit edeceğiz.\n",
    "\n",
    "Veri seti olarak kullanacağımız csv dosyasına [buradan]() ulaşabilirsiniz.\n",
    "\n",
    "\n",
    "## 1. VERİ ÖNİŞLEME\n"
   ]
  },
  {
   "cell_type": "code",
   "execution_count": null,
   "id": "5f3f5b84",
   "metadata": {},
   "outputs": [],
   "source": []
  }
 ],
 "metadata": {
  "kernelspec": {
   "display_name": "Python 3 (ipykernel)",
   "language": "python",
   "name": "python3"
  },
  "language_info": {
   "codemirror_mode": {
    "name": "ipython",
    "version": 3
   },
   "file_extension": ".py",
   "mimetype": "text/x-python",
   "name": "python",
   "nbconvert_exporter": "python",
   "pygments_lexer": "ipython3",
   "version": "3.8.13"
  }
 },
 "nbformat": 4,
 "nbformat_minor": 5
}
